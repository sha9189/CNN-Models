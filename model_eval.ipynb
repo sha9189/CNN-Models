{
 "cells": [
  {
   "cell_type": "markdown",
   "metadata": {},
   "source": [
    "# Important boilerplate codes pertaining to model evaluation"
   ]
  },
  {
   "cell_type": "code",
   "execution_count": 1,
   "metadata": {},
   "outputs": [],
   "source": [
    "from models.catsvsdogsmodel import CatsVsDogsModel\n",
    "from model_eval import get_latest_checkpoint, get_model_score, get_checkpoint_by_model_number, get_latest_checkpoint_number\n",
    "import torch.nn as nn\n",
    "from helpers import create_dataloader\n",
    "from models.customVgg import custom_vgg\n",
    "from models.resnet import ResNet, ResidualBlock\n",
    "import pickle \n",
    "\n"
   ]
  },
  {
   "cell_type": "markdown",
   "metadata": {},
   "source": [
    "## Get Latest Checkpoint"
   ]
  },
  {
   "cell_type": "code",
   "execution_count": 3,
   "metadata": {},
   "outputs": [
    {
     "name": "stdout",
     "output_type": "stream",
     "text": [
      "Checkpoint 20 loaded\n"
     ]
    },
    {
     "name": "stderr",
     "output_type": "stream",
     "text": [
      "100%|██████████| 625/625 [00:09<00:00, 68.56it/s]\n"
     ]
    },
    {
     "data": {
      "text/plain": [
       "(0.8055999875068665, 1.2752277851104736)"
      ]
     },
     "execution_count": 3,
     "metadata": {},
     "output_type": "execute_result"
    }
   ],
   "source": [
    "# load model\n",
    "task_name = \"task1\"\n",
    "model = CatsVsDogsModel()\n",
    "checkpoint = get_latest_checkpoint(task_name=task_name)\n",
    "model.load_state_dict(checkpoint['model_state_dict'])\n",
    "\n",
    "\n",
    "test_dataloader = create_dataloader(\n",
    "    data_path=\"data/test\"\n",
    ")\n",
    "\n",
    "# load loss function\n",
    "criterion = nn.BCELoss()\n",
    "\n",
    "get_model_score(\n",
    "    model=model,\n",
    "    dataloader=test_dataloader,\n",
    "    criterion=criterion)"
   ]
  },
  {
   "cell_type": "code",
   "execution_count": 4,
   "metadata": {},
   "outputs": [
    {
     "name": "stdout",
     "output_type": "stream",
     "text": [
      "Checkpoint 20 loaded\n"
     ]
    },
    {
     "name": "stderr",
     "output_type": "stream",
     "text": [
      "100%|██████████| 625/625 [00:08<00:00, 70.73it/s]\n"
     ]
    },
    {
     "data": {
      "text/plain": [
       "(0.8055999875068665, 1.2752277851104736)"
      ]
     },
     "execution_count": 4,
     "metadata": {},
     "output_type": "execute_result"
    }
   ],
   "source": [
    "# load model\n",
    "task_name = \"task1\"\n",
    "model = CatsVsDogsModel()\n",
    "checkpoint = get_latest_checkpoint(task_name=task_name)\n",
    "model.load_state_dict(checkpoint['model_state_dict'])\n",
    "\n",
    "val_data_path = \"data/val/\"\n",
    "\n",
    "val_dataloader = create_dataloader(\n",
    "    data_path=val_data_path\n",
    ")\n",
    "\n",
    "# load loss function\n",
    "criterion = nn.BCELoss()\n",
    "\n",
    "get_model_score(\n",
    "    model=model,\n",
    "    dataloader=val_dataloader,\n",
    "    criterion=criterion)\n"
   ]
  },
  {
   "cell_type": "code",
   "execution_count": 4,
   "metadata": {},
   "outputs": [
    {
     "name": "stdout",
     "output_type": "stream",
     "text": [
      "Checkpoint 3 loaded\n"
     ]
    },
    {
     "name": "stderr",
     "output_type": "stream",
     "text": [
      "100%|██████████| 623/623 [02:32<00:00,  4.09it/s]\n"
     ]
    },
    {
     "data": {
      "text/plain": [
       "(0.9582329392433167, 0.11219563335180283)"
      ]
     },
     "execution_count": 4,
     "metadata": {},
     "output_type": "execute_result"
    }
   ],
   "source": [
    "# load model\n",
    "task_name = \"task2\"\n",
    "model = custom_vgg()\n",
    "checkpoint = get_latest_checkpoint(task_name=task_name)\n",
    "model.load_state_dict(checkpoint['model_state_dict'])\n",
    "\n",
    "val_data_path = \"data/val/\"\n",
    "\n",
    "val_dataloader = create_dataloader(\n",
    "    data_path=val_data_path\n",
    ")\n",
    "\n",
    "# load loss function\n",
    "criterion = nn.BCELoss()\n",
    "\n",
    "get_model_score(\n",
    "    model=model,\n",
    "    dataloader=val_dataloader,\n",
    "    criterion=criterion)"
   ]
  },
  {
   "cell_type": "markdown",
   "metadata": {},
   "source": [
    "## Get Model Scores"
   ]
  },
  {
   "cell_type": "code",
   "execution_count": 7,
   "metadata": {},
   "outputs": [
    {
     "name": "stdout",
     "output_type": "stream",
     "text": [
      "Checkpoint 5 loaded\n"
     ]
    },
    {
     "name": "stderr",
     "output_type": "stream",
     "text": [
      "100%|██████████| 625/625 [00:24<00:00, 25.12it/s]\n"
     ]
    },
    {
     "data": {
      "text/plain": [
       "(0.909600019454956, 0.22913144528865814)"
      ]
     },
     "execution_count": 7,
     "metadata": {},
     "output_type": "execute_result"
    }
   ],
   "source": [
    "# load model\n",
    "task_name = \"task3\"\n",
    "model = ResNet(ResidualBlock, [2, 2, 2, 2], num_classes=1)\n",
    "checkpoint = get_latest_checkpoint(task_name=task_name)\n",
    "model.load_state_dict(checkpoint['model_state_dict'])\n",
    "\n",
    "test_data_path = \"data/test/\"\n",
    "\n",
    "test_dataloader = create_dataloader(\n",
    "    data_path=test_data_path\n",
    ")\n",
    "\n",
    "\n",
    "# load loss function\n",
    "criterion = nn.BCELoss()\n",
    "\n",
    "get_model_score(\n",
    "    model=model,\n",
    "    dataloader=test_dataloader,\n",
    "    criterion=criterion)"
   ]
  },
  {
   "cell_type": "markdown",
   "metadata": {},
   "source": [
    "## Get All Model Scores by Epoch for any Dataset"
   ]
  },
  {
   "cell_type": "code",
   "execution_count": 3,
   "metadata": {},
   "outputs": [
    {
     "name": "stdout",
     "output_type": "stream",
     "text": [
      "Checkpoint 1 loaded\n"
     ]
    },
    {
     "name": "stderr",
     "output_type": "stream",
     "text": [
      "100%|██████████| 623/623 [00:25<00:00, 24.78it/s]\n"
     ]
    },
    {
     "name": "stdout",
     "output_type": "stream",
     "text": [
      "Checkpoint 2 loaded\n"
     ]
    },
    {
     "name": "stderr",
     "output_type": "stream",
     "text": [
      "100%|██████████| 623/623 [00:25<00:00, 24.20it/s]\n"
     ]
    },
    {
     "name": "stdout",
     "output_type": "stream",
     "text": [
      "Checkpoint 3 loaded\n"
     ]
    },
    {
     "name": "stderr",
     "output_type": "stream",
     "text": [
      "100%|██████████| 623/623 [00:25<00:00, 24.07it/s]\n"
     ]
    },
    {
     "name": "stdout",
     "output_type": "stream",
     "text": [
      "Checkpoint 4 loaded\n"
     ]
    },
    {
     "name": "stderr",
     "output_type": "stream",
     "text": [
      "100%|██████████| 623/623 [00:25<00:00, 24.27it/s]\n"
     ]
    },
    {
     "name": "stdout",
     "output_type": "stream",
     "text": [
      "Checkpoint 5 loaded\n"
     ]
    },
    {
     "name": "stderr",
     "output_type": "stream",
     "text": [
      "100%|██████████| 623/623 [00:25<00:00, 24.46it/s]\n"
     ]
    }
   ],
   "source": [
    "task_name = \"task3\"\n",
    "data_path = \"data/val/\"\n",
    "\n",
    "epochs = get_latest_checkpoint_number(task_name)\n",
    "\n",
    "dataloader = create_dataloader(data_path)\n",
    "\n",
    "criterion = nn.BCELoss()\n",
    "\n",
    "epoch_val_accuracys = []\n",
    "epoch_val_losses = []\n",
    "\n",
    "for i in range(epochs):\n",
    "    model = ResNet(ResidualBlock, [2, 2, 2, 2], num_classes=1)\n",
    "    checkpoint = get_checkpoint_by_model_number(task_name, i+1)\n",
    "    model.load_state_dict(checkpoint['model_state_dict'])\n",
    "    accuracy, loss = get_model_score(model=model, dataloader=dataloader, criterion=criterion)\n",
    "    epoch_val_accuracys.append(accuracy)\n",
    "    epoch_val_losses.append(loss)\n",
    "    \n",
    "    "
   ]
  },
  {
   "cell_type": "code",
   "execution_count": 4,
   "metadata": {},
   "outputs": [
    {
     "name": "stdout",
     "output_type": "stream",
     "text": [
      "Performace metrics saved\n"
     ]
    }
   ],
   "source": [
    "# save the scores\n",
    "metrics_file_path = lambda metric: f\"checkpoints/{task_name}/{task_name}-{metric}.pkl\"\n",
    "\n",
    "with open(metrics_file_path(\"val-accuracys\"), 'wb') as f:\n",
    "    pickle.dump(epoch_val_accuracys, f)\n",
    "with open(metrics_file_path(\"val-losses\"), 'wb') as f:\n",
    "    pickle.dump(epoch_val_losses, f)\n",
    "print(\"Performace metrics saved\")"
   ]
  },
  {
   "cell_type": "code",
   "execution_count": 15,
   "metadata": {},
   "outputs": [
    {
     "data": {
      "text/plain": [
       "[0.9550200700759888, 0.9530120491981506, 0.9582329392433167]"
      ]
     },
     "execution_count": 15,
     "metadata": {},
     "output_type": "execute_result"
    }
   ],
   "source": [
    "epoch_val_accuracys"
   ]
  },
  {
   "cell_type": "markdown",
   "metadata": {},
   "source": [
    "## Task 4 Analysis of model training data"
   ]
  },
  {
   "cell_type": "code",
   "execution_count": 5,
   "metadata": {},
   "outputs": [],
   "source": [
    "import pickle \n",
    "\n",
    "task_name = \"task4\"\n",
    "\n",
    "metrics_file_path = lambda metric: f\"checkpoints/{task_name}/{task_name}-{metric}.pkl\"\n",
    "\n",
    "with open(metrics_file_path(\"train-losses\"), 'rb') as f:\n",
    "    epoch_losses = pickle.load(f)\n",
    "with open(metrics_file_path(\"train-accuracys\"), 'rb') as f:\n",
    "    epoch_accuracys = pickle.load(f)\n",
    "with open(metrics_file_path(\"val-accuracys\"), 'rb') as f:\n",
    "    epoch_val_accuracys = pickle.load(f)\n",
    "with open(metrics_file_path(\"val-losses\"), 'rb') as f:\n",
    "    epoch_val_losses = pickle.load(f)\n"
   ]
  },
  {
   "cell_type": "code",
   "execution_count": 6,
   "metadata": {},
   "outputs": [
    {
     "data": {
      "image/png": "[encoded data removed]",
      "text/plain": [
       "<Figure size 1000x500 with 2 Axes>"
      ]
     },
     "metadata": {},
     "output_type": "display_data"
    }
   ],
   "source": [
    "from helpers import create_plots\n",
    "\n",
    "create_plots(\n",
    "    train_accuracy_list=epoch_accuracys,\n",
    "    train_loss_list=epoch_losses, \n",
    "    val_accuracy_list=epoch_val_accuracys,\n",
    "    val_loss_list=epoch_val_losses,\n",
    "    task_name=f\"{task_name}\",    \n",
    "    epoch_list=list(range(1, len(epoch_accuracys)+1))\n",
    ")\n"
   ]
  },
  {
   "cell_type": "code",
   "execution_count": 12,
   "metadata": {},
   "outputs": [],
   "source": [
    "epochs_to_keep = 2\n",
    "epoch_losses = epoch_losses[:epochs_to_keep]\n",
    "epoch_accuracys = epoch_accuracys[:epochs_to_keep]\n",
    "epoch_val_accuracys = epoch_val_accuracys[:epochs_to_keep]\n",
    "epoch_val_losses = epoch_val_losses[:epochs_to_keep]"
   ]
  },
  {
   "cell_type": "code",
   "execution_count": 13,
   "metadata": {},
   "outputs": [
    {
     "name": "stdout",
     "output_type": "stream",
     "text": [
      "Updated Performace metrics saved\n"
     ]
    }
   ],
   "source": [
    "with open(metrics_file_path(\"train-losses\"), 'wb') as f:\n",
    "    pickle.dump(epoch_losses, f)\n",
    "with open(metrics_file_path(\"train-accuracys\"), 'wb') as f:\n",
    "    pickle.dump(epoch_accuracys, f)\n",
    "with open(metrics_file_path(\"val-accuracys\"), 'wb') as f:\n",
    "    pickle.dump(epoch_val_accuracys, f)\n",
    "with open(metrics_file_path(\"val-losses\"), 'wb') as f:\n",
    "    pickle.dump(epoch_val_losses, f)\n",
    "print(\"Updated Performace metrics saved\")"
   ]
  },
  {
   "cell_type": "code",
   "execution_count": null,
   "metadata": {},
   "outputs": [],
   "source": []
  }
 ],
 "metadata": {
  "kernelspec": {
   "display_name": "venv",
   "language": "python",
   "name": "python3"
  },
  "language_info": {
   "codemirror_mode": {
    "name": "ipython",
    "version": 3
   },
   "file_extension": ".py",
   "mimetype": "text/x-python",
   "name": "python",
   "nbconvert_exporter": "python",
   "pygments_lexer": "ipython3",
   "version": "3.12.2"
  }
 },
 "nbformat": 4,
 "nbformat_minor": 2
}
